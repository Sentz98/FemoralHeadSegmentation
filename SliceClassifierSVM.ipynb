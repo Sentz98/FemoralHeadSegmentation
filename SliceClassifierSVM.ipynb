{
 "cells": [
  {
   "cell_type": "code",
   "execution_count": 13,
   "metadata": {},
   "outputs": [],
   "source": [
    "import numpy as np\n",
    "import joblib\n",
    "from sklearn import svm\n",
    "from sklearn.model_selection import train_test_split\n",
    "from skimage.transform import resize\n",
    "from skimage.feature import hog\n",
    "from skimage import exposure\n",
    "from SliceDatasetBuilder import CustomHipDataset\n",
    "\n",
    "class SliceSVMClassifier:\n",
    "    def __init__(self, kernel='linear', C=1.0):\n",
    "        \"\"\"\n",
    "        Initialize the ImageSVMClassifierWithHOG.\n",
    "\n",
    "        :param kernel: SVM kernel (default: 'linear')\n",
    "        :param C: Regularization parameter (default: 1.0)\n",
    "        \"\"\"\n",
    "        self.clf = svm.SVC(kernel=kernel, C=C)\n",
    "\n",
    "    def _extract_hog_features(self, images):\n",
    "        hog_features = []\n",
    "        for image in tqdm(images, desc=\"Extracting HOG Features\"):\n",
    "            image = resize(image, (128, 128))\n",
    "            # Extract HOG features\n",
    "            fd = hog(image, pixels_per_cell=(8, 8), cells_per_block=(2, 2), block_norm='L2-Hys')\n",
    "\n",
    "            hog_features.append(fd)\n",
    "        return np.array(hog_features)\n",
    "\n",
    "    def train(self, custom_dataset, test_size=0.3, random_state=None):\n",
    "        \"\"\"\n",
    "        Train the SVM classifier with HOG features using a CustomHipDataset.\n",
    "\n",
    "        :param custom_dataset: CustomHipDataset object\n",
    "        :param test_size: Fraction of data to use for testing (default: 0.2)\n",
    "        :param random_state: Random seed for reproducibility\n",
    "        \"\"\"\n",
    "        X = custom_dataset[0]\n",
    "        y = custom_dataset[1]\n",
    "\n",
    "        hog_features = self._extract_hog_features(X)\n",
    "        X_train, X_test, y_train, y_test = train_test_split(hog_features, y, test_size=test_size, random_state=random_state)\n",
    "\n",
    "        print(f\"Training SVM classifier with {len(X_train)} images and {len(X_test)} test images...\")\n",
    "\n",
    "        \n",
    "        self.clf.fit(X_train, y_train)\n",
    "\n",
    "        accuracy = self.clf.score(X_test, y_test)\n",
    "        return accuracy\n",
    "\n",
    "    def predict(self, X):\n",
    "        \"\"\"\n",
    "        Make predictions using the trained SVM classifier with HOG features using a CustomHipDataset.\n",
    "\n",
    "        :param custom_dataset: CustomHipDataset object\n",
    "        :return: List of predicted labels\n",
    "        \"\"\"\n",
    "        hog_features = self._extract_hog_features(X)\n",
    "        print(len(hog_features[0]))\n",
    "        predictions = self.clf.predict(hog_features)\n",
    "        return predictions\n",
    "    \n",
    "    def save_model(self, filename):\n",
    "        \"\"\"\n",
    "        Save the trained SVM classifier model to a file using joblib.\n",
    "\n",
    "        :param filename: Name of the file to save the model to\n",
    "        \"\"\"\n",
    "        joblib.dump(self.clf, filename)\n",
    "    \n",
    "    def load_model(self, filename):\n",
    "        \"\"\"\n",
    "        Load a trained SVM classifier model from a file using joblib.\n",
    "\n",
    "        :param filename: Name of the file to load the model from\n",
    "        :return: An instance of SliceSVMClassifier with the loaded model\n",
    "        \"\"\"\n",
    "        self.clf = joblib.load(filename)\n",
    "        return\n"
   ]
  },
  {
   "cell_type": "code",
   "execution_count": 3,
   "metadata": {},
   "outputs": [
    {
     "name": "stdout",
     "output_type": "stream",
     "text": [
      "Loading data/dataset/normalHip\\JOR01\\axial...\n",
      "Positive interval of JOR01: [330, 400] for SX\n",
      "Positive interval of JOR01: [280, 370] for DX\n",
      "Loading data/dataset/normalHip\\JOR02\\axial...\n",
      "Positive interval of JOR02: [250, 380] for SX\n",
      "Positive interval of JOR02: [340, 445] for DX\n"
     ]
    },
    {
     "name": "stderr",
     "output_type": "stream",
     "text": [
      "Load all dataset: 100%|██████████| 4034/4034 [01:45<00:00, 38.35it/s]\n"
     ]
    }
   ],
   "source": [
    "# Load the dataset\n",
    "hips = CustomHipDataset(\"label_onlyNormal.json\", view_types=[\"axial\"])\n",
    "hips.load_all_dataset()"
   ]
  },
  {
   "cell_type": "code",
   "execution_count": 4,
   "metadata": {},
   "outputs": [
    {
     "name": "stdout",
     "output_type": "stream",
     "text": [
      "data/dataset/normalHip\\JOR01\\axial\\JOR01_290_DX.png\n",
      "True\n"
     ]
    }
   ],
   "source": [
    "i=1221\n",
    "print(hips.image_paths[i])\n",
    "print(hips.labels[i])"
   ]
  },
  {
   "cell_type": "code",
   "execution_count": 9,
   "metadata": {},
   "outputs": [
    {
     "name": "stderr",
     "output_type": "stream",
     "text": [
      "Extracting HOG Features: 100%|██████████| 4034/4034 [02:59<00:00, 22.45it/s]\n"
     ]
    },
    {
     "name": "stdout",
     "output_type": "stream",
     "text": [
      "Training SVM classifier with 2823 images and 1211 test images...\n",
      "Accuracy: 1.0\n"
     ]
    }
   ],
   "source": [
    "# Initialize the SVM classifier\n",
    "\n",
    "svm_classifier = SliceSVMClassifier()\n",
    "\n",
    "# Train the SVM classifier with HOG features\n",
    "accuracy = svm_classifier.train(hips.get_all_dataset())\n",
    "\n",
    "print(f\"Accuracy: {accuracy}\")\n",
    "\n",
    "# Save the trained model to a file\n",
    "svm_classifier.save_model(\"axial.pkl\")"
   ]
  },
  {
   "cell_type": "code",
   "execution_count": 14,
   "metadata": {},
   "outputs": [
    {
     "name": "stderr",
     "output_type": "stream",
     "text": [
      "Extracting HOG Features: 100%|██████████| 1468/1468 [01:09<00:00, 20.98it/s]\n"
     ]
    },
    {
     "name": "stdout",
     "output_type": "stream",
     "text": [
      "8100\n",
      "Number of 1s: 0\n"
     ]
    }
   ],
   "source": [
    "import matplotlib.pyplot as plt\n",
    "\n",
    "#TEST CLASSIFIER\n",
    "loaded = SliceSVMClassifier()\n",
    "# Load the model from a file\n",
    "loaded.load_model(\"axial.pkl\")\n",
    "\n",
    "# Load images from a folder\n",
    "folder_path = \"data/dataset/normalHip/JOR09/axial\"\n",
    "\n",
    "image_array = []\n",
    "for filename in os.listdir(folder_path):\n",
    "    file_path = os.path.join(folder_path, filename)\n",
    "    image = np.array(Image.open(file_path).convert(\"RGB\").convert(\"L\"))\n",
    "    image_array.append(image)\n",
    "\n",
    "# Make predictions using the loaded model\n",
    "predictions = loaded.predict(image_array)\n",
    "\n",
    "#print number of 1s\n",
    "print(f\"Number of 1s: {np.count_nonzero(predictions == 1)}\")\n",
    "\n",
    "# Print the predictions\n",
    "for index, value in enumerate(predictions):\n",
    "    if value == 1:\n",
    "        print(f\"Value 1 found at index {index+1}\")\n",
    "        plt.imshow(image_array[index], cmap='gray')\n",
    "        plt.show()\n",
    "\n"
   ]
  }
 ],
 "metadata": {
  "kernelspec": {
   "display_name": "medImg",
   "language": "python",
   "name": "python3"
  },
  "language_info": {
   "codemirror_mode": {
    "name": "ipython",
    "version": 3
   },
   "file_extension": ".py",
   "mimetype": "text/x-python",
   "name": "python",
   "nbconvert_exporter": "python",
   "pygments_lexer": "ipython3",
   "version": "3.11.5"
  }
 },
 "nbformat": 4,
 "nbformat_minor": 2
}
