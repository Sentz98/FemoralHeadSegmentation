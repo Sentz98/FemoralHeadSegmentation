{
 "cells": [
  {
   "cell_type": "code",
   "execution_count": 1,
   "metadata": {},
   "outputs": [
    {
     "name": "stdout",
     "output_type": "stream",
     "text": [
      "Patient Number: 01\n"
     ]
    }
   ],
   "source": [
    "import os\n",
    "\n",
    "filepath = '/data/NormalHip/JOR01/'\n",
    "Pnr = filepath.find('JOR')\n",
    "Patientnr = filepath[Pnr + len('JOR'):Pnr + len('JOR') + 2]\n",
    "print('Patient Number:', Patientnr)"
   ]
  },
  {
   "cell_type": "code",
   "execution_count": null,
   "metadata": {},
   "outputs": [],
   "source": [
    "import glob\n",
    "\n",
    "image_files = glob.glob(os.path.join(filepath, '*.dcm'))\n",
    "print('Number of Images =', len(image_files))"
   ]
  },
  {
   "cell_type": "code",
   "execution_count": null,
   "metadata": {},
   "outputs": [],
   "source": [
    "import os\n",
    "import glob\n",
    "import pydicom\n",
    "\n",
    "filepath = '/Users/mahdieh/Dropbox/ELE670/Assignments/ImageData/NormalHip/JOR01/'\n",
    "image_files = glob.glob(os.path.join(filepath, '*.dcm'))\n",
    "\n",
    "Im = []\n",
    "\n",
    "for k in range(1, 651):  # Adjust the range according to your needs\n",
    "    filename = os.path.join(filepath, image_files[k - 1])\n",
    "    ds = pydicom.dcmread(filename)\n",
    "    im = ds.pixel_array  # Load pixel data\n",
    "\n",
    "    # In this particular dataset, the region of interest (ROI) is defined\n",
    "    im_roi = im[550:1200, 50:700]\n",
    "\n",
    "    Im.append(im_roi)\n",
    "\n",
    "# Im now contains the processed images\n"
   ]
  }
 ],
 "metadata": {
  "kernelspec": {
   "display_name": "medImg",
   "language": "python",
   "name": "python3"
  },
  "language_info": {
   "codemirror_mode": {
    "name": "ipython",
    "version": 3
   },
   "file_extension": ".py",
   "mimetype": "text/x-python",
   "name": "python",
   "nbconvert_exporter": "python",
   "pygments_lexer": "ipython3",
   "version": "3.11.5"
  }
 },
 "nbformat": 4,
 "nbformat_minor": 2
}
